{
 "cells": [
  {
   "cell_type": "code",
   "execution_count": 1,
   "id": "4f9f6b5c",
   "metadata": {},
   "outputs": [
    {
     "name": "stdout",
     "output_type": "stream",
     "text": [
      "h\n",
      "e\n",
      "l\n",
      "l\n",
      "o\n",
      ",\n",
      " \n",
      "w\n",
      "o\n",
      "r\n",
      "l\n",
      "d\n"
     ]
    }
   ],
   "source": [
    "for letter in \"hello, world\":\n",
    "    print(letter)"
   ]
  },
  {
   "cell_type": "code",
   "execution_count": null,
   "id": "b5dacbeb",
   "metadata": {
    "scrolled": true
   },
   "outputs": [],
   "source": [
    "# Avoid this:\n",
    "# def are_anagrams(str_a, str_b):\n",
    "#     return sorted(str_a) == sorted(str_b)"
   ]
  },
  {
   "cell_type": "code",
   "execution_count": 26,
   "id": "05b51a86",
   "metadata": {},
   "outputs": [],
   "source": [
    "def cast_str(string):\n",
    "    str_array = string.split(' ')\n",
    "    return ''.join(str_array).lower()\n",
    "\n",
    "def are_anagrams(str_a, str_b):\n",
    "    str_a = cast_str(str_a)\n",
    "    str_b = cast_str(str_b)\n",
    "    if len(str_a) != len(str_b):\n",
    "        return False\n",
    "    \n",
    "    char_times_a = dict()\n",
    "    char_times_b = dict()\n",
    "    \n",
    "    for i in range(len(str_a)):\n",
    "        if str_a[i] not in char_times_a.keys():\n",
    "            char_times_a[str_a[i]] = 1\n",
    "        else:\n",
    "            char_times_a[str_a[i]] += 1\n",
    "            \n",
    "        if str_b[i] not in char_times_b.keys():\n",
    "            char_times_b[str_b[i]] = 1\n",
    "        else:\n",
    "            char_times_b[str_b[i]] += 1\n",
    "            \n",
    "    return char_times_a == char_times_b"
   ]
  },
  {
   "cell_type": "code",
   "execution_count": 27,
   "id": "caab7977",
   "metadata": {},
   "outputs": [
    {
     "data": {
      "text/plain": [
       "True"
      ]
     },
     "execution_count": 27,
     "metadata": {},
     "output_type": "execute_result"
    }
   ],
   "source": [
    "are_anagrams('Tom Marvolo Riddle', 'I am Lord Voldemort')"
   ]
  },
  {
   "cell_type": "code",
   "execution_count": null,
   "id": "52ac88e1",
   "metadata": {},
   "outputs": [],
   "source": []
  },
  {
   "cell_type": "code",
   "execution_count": null,
   "id": "b90b71fc",
   "metadata": {},
   "outputs": [],
   "source": []
  },
  {
   "cell_type": "code",
   "execution_count": null,
   "id": "27bf9967",
   "metadata": {},
   "outputs": [],
   "source": []
  }
 ],
 "metadata": {
  "kernelspec": {
   "display_name": "Python 3 (ipykernel)",
   "language": "python",
   "name": "python3"
  },
  "language_info": {
   "codemirror_mode": {
    "name": "ipython",
    "version": 3
   },
   "file_extension": ".py",
   "mimetype": "text/x-python",
   "name": "python",
   "nbconvert_exporter": "python",
   "pygments_lexer": "ipython3",
   "version": "3.8.10"
  }
 },
 "nbformat": 4,
 "nbformat_minor": 5
}
