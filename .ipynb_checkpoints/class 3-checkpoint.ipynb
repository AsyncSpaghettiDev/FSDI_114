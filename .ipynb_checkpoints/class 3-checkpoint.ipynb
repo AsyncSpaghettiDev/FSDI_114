{
 "cells": [
  {
   "cell_type": "code",
   "execution_count": 1,
   "id": "d8a45e04",
   "metadata": {},
   "outputs": [],
   "source": [
    "# Data cell\n",
    "class Node:\n",
    "    def __init__(self, data):\n",
    "        self.data = data\n",
    "        self.above = None\n",
    "        \n",
    "    def __str__(self):\n",
    "        return str(self.data)\n",
    "        \n",
    "# Stack implementation\n",
    "class Stack:\n",
    "    def __init__(self):\n",
    "        self.base = None # start point of stack\n",
    "        self.__lenght = 0  # quantity of elements in the stack\n",
    "        \n",
    "    def push(self, element):\n",
    "        new_node = Node(element) # create new node to add\n",
    "        \n",
    "        # in case we have an empty stack we define the new node as the base node, and increment the lenght\n",
    "        if self.is_empty():\n",
    "            self.base = new_node\n",
    "            self.__lenght += 1\n",
    "            return\n",
    "        # otherwise we search for the last element and add the new node to it, and increment the length\n",
    "        current = self.peek()\n",
    "        current.above = new_node\n",
    "        self.__lenght += 1\n",
    "        \n",
    "    def pop(self):\n",
    "        # validate is stack isn't empty\n",
    "        if self.is_empty():\n",
    "            print('No elements to pop')\n",
    "            return\n",
    "        \n",
    "        # in case we just have one node (base node) we reset the lenght and clear the base node\n",
    "        if self.base.above is None:\n",
    "            current_base = self.base\n",
    "            self.base = None\n",
    "            self.__lenght = 0\n",
    "            return current_base\n",
    "            \n",
    "        # otherwise we loop through the stack to find the last node and the previous last node\n",
    "        current = self.base\n",
    "        last = self.base.above\n",
    "\n",
    "        # until last node has a node we continue looping\n",
    "        while last.above:\n",
    "            current = last\n",
    "            last = last.above\n",
    "\n",
    "        # once we get the last, we remove the above to the previous and return the last node\n",
    "        current.above = None\n",
    "        self.__lenght -= 1\n",
    "        return last\n",
    "    \n",
    "    def is_empty(self):\n",
    "        # if we dont have a base node our stack is empty\n",
    "        return self.base == None  \n",
    "    \n",
    "    def peek(self):\n",
    "        # if our stack is empty we return none\n",
    "        if self.is_empty():\n",
    "            return None\n",
    "        \n",
    "        last = self.base\n",
    "        # let's loop through the above of each last node until we dont have an above node\n",
    "        # and then just return the node we got\n",
    "        while last.above:\n",
    "            last = last.above\n",
    "        return last\n",
    "        \n",
    "    def __str__(self):\n",
    "        # if we want convert our stack to str, we just return the last element\n",
    "        return str(self.peek())\n",
    "    \n",
    "    def __len__(self):\n",
    "        # in case we want know the lenght of the stack we just return the lenght property\n",
    "        return self.__lenght"
   ]
  },
  {
   "cell_type": "markdown",
   "id": "7f859176",
   "metadata": {},
   "source": [
    "# Problem 2\n",
    "\n",
    "### Use a stack to invert a string\n",
    "Create a function called \"invert_str\" that takes a parameter (a string) and returns it's inverted version.\n",
    "* As a requirement yout solution _must_ use one of the two stack classes we implemented last class.*\n",
    "```\n",
    "Examples:\n",
    "given \"Rafael\" your function should return \"leafaR\"\n",
    "given \"Cars\" your function should return \"sraC\"\n",
    "given \"Rats\" your function should return \"staR\"\n",
    "```"
   ]
  },
  {
   "cell_type": "code",
   "execution_count": 11,
   "id": "a0b38532",
   "metadata": {},
   "outputs": [],
   "source": [
    "def invert_str(str_to_invert):\n",
    "    original = Stack()\n",
    "    for letter in str_to_invert:\n",
    "        original.push(letter)\n",
    "    \n",
    "    inverted = ''\n",
    "    while not original.is_empty():\n",
    "        inverted += str(original.pop())\n",
    "        \n",
    "    return inverted"
   ]
  },
  {
   "cell_type": "code",
   "execution_count": 12,
   "id": "92f11c77",
   "metadata": {},
   "outputs": [
    {
     "name": "stdout",
     "output_type": "stream",
     "text": [
      "leafaR\n",
      "sraC\n",
      "staR\n"
     ]
    }
   ],
   "source": [
    "print(invert_str('Rafael'))\n",
    "print(invert_str('Cars'))\n",
    "print(invert_str('Rats'))"
   ]
  },
  {
   "cell_type": "code",
   "execution_count": 19,
   "id": "bb7bc245",
   "metadata": {},
   "outputs": [
    {
     "name": "stdout",
     "output_type": "stream",
     "text": [
      "tok\n"
     ]
    }
   ],
   "source": [
    "pairs = [\n",
    "    (\"Rafael\", \"leafaR\"),\n",
    "    (\"cars\", \"srac\"),\n",
    "    (\"rats\", \"star\")\n",
    "]\n",
    "\n",
    "def test_invert_str(pairs):\n",
    "    for pair in pairs:\n",
    "        assert invert_str(pair[0]) == pair[1]\n",
    "    print('tok')\n",
    "    \n",
    "test_invert_str(pairs)"
   ]
  },
  {
   "cell_type": "markdown",
   "id": "5e313bc9",
   "metadata": {},
   "source": [
    "# Recursive Functions"
   ]
  },
  {
   "cell_type": "code",
   "execution_count": 20,
   "id": "07446c23",
   "metadata": {},
   "outputs": [],
   "source": [
    "def factorial(n):\n",
    "    if n == 0:\n",
    "         return 1\n",
    "    return n * factorial(n-1)\n"
   ]
  },
  {
   "cell_type": "code",
   "execution_count": 27,
   "id": "22a8de85",
   "metadata": {},
   "outputs": [
    {
     "data": {
      "text/plain": [
       "3628800"
      ]
     },
     "execution_count": 27,
     "metadata": {},
     "output_type": "execute_result"
    }
   ],
   "source": [
    "factorial(10)"
   ]
  },
  {
   "cell_type": "code",
   "execution_count": 52,
   "id": "f3b6b619",
   "metadata": {},
   "outputs": [],
   "source": [
    "def fibonacci(n):\n",
    "#     print('calculating fibonacci for:' + str(n))\n",
    "    if n < 2: return n\n",
    "    return fibonacci(n - 1) + fibonacci(n - 2)"
   ]
  },
  {
   "cell_type": "code",
   "execution_count": 55,
   "id": "790c1d1d",
   "metadata": {},
   "outputs": [
    {
     "name": "stdout",
     "output_type": "stream",
     "text": [
      "0\n",
      "1\n",
      "1\n",
      "2\n",
      "3\n",
      "5\n",
      "8\n",
      "13\n",
      "21\n",
      "34\n"
     ]
    }
   ],
   "source": [
    "for i in range(10):\n",
    "    print(fibonacci(i))"
   ]
  },
  {
   "cell_type": "markdown",
   "id": "32f641f9",
   "metadata": {},
   "source": [
    "# Memoization"
   ]
  },
  {
   "cell_type": "code",
   "execution_count": 56,
   "id": "2101b61d",
   "metadata": {},
   "outputs": [],
   "source": [
    "from functools import lru_cache\n",
    "\n",
    "@lru_cache\n",
    "def fibonacci(n):\n",
    "#     print('calculating fibonacci for:' + str(n))\n",
    "    if n < 2: return n\n",
    "    return fibonacci(n - 1) + fibonacci(n - 2)"
   ]
  },
  {
   "cell_type": "code",
   "execution_count": 58,
   "id": "7f6d0184",
   "metadata": {},
   "outputs": [
    {
     "data": {
      "text/plain": [
       "93326215443944152681699238856266700490715968264381621468592963895217599993229915608941463976156518286253697920827223758251185210916864000000000000000000000000"
      ]
     },
     "execution_count": 58,
     "metadata": {},
     "output_type": "execute_result"
    }
   ],
   "source": [
    "factorial(100)"
   ]
  },
  {
   "cell_type": "markdown",
   "id": "356f598a",
   "metadata": {},
   "source": [
    "# Hashtable\n"
   ]
  },
  {
   "cell_type": "code",
   "execution_count": 63,
   "id": "93bcb77e",
   "metadata": {},
   "outputs": [],
   "source": [
    "class HashTable:\n",
    "    def __init__(self, size):\n",
    "        self.size = size\n",
    "        self.slots = [None] * self.size\n",
    "        self.data = [None] * self.size\n",
    "    \n",
    "    def put(self, key,data):\n",
    "        hashvalue = self.hashfunction(key, len(self.slots))\n",
    "        if self.slots[hashvalue] == None:\n",
    "            self.slots[hashvalue] = key\n",
    "            self.data[hashvalue] = data\n",
    "        elif self.slots[hashvalue] == key:\n",
    "            self.data[hashvalue] = data\n",
    "        else:\n",
    "            nextslot = self.rehash(hashvalue, len(self.slots))\n",
    "            while self.slots[nextslot] is not None and self.slots[nextslot] is not key:\n",
    "                nextslot = self.rehash(nextslot, len(self.slots))\n",
    "                \n",
    "            if self.slots[nextslot] is None:\n",
    "                self.slots[nextslot] = key\n",
    "                self.data[nextslot] = data\n",
    "            else:\n",
    "                self.data[nextslot] = data\n",
    "                \n",
    "    \n",
    "    def hashfunction(self, key,size):\n",
    "        return key%size\n",
    "    \n",
    "    def rehash(self,oldhash, size):\n",
    "        return (oldhash + 1) % size\n",
    "    \n",
    "    def get(self, key):\n",
    "        startslot = self.hashfunction(key, len(self.slots))\n",
    "        data = None\n",
    "        stop = False\n",
    "        found = False\n",
    "        position = startslot\n",
    "        \n",
    "        while self.slots[position] is not Note and not found and not stop:\n",
    "            if self.slots[position] == key:\n",
    "                found = True\n",
    "                data = self.data[position]\n",
    "                \n",
    "            else:\n",
    "                position = self.rehash(position, len(self.slots))\n",
    "                if position == startslot:\n",
    "                    stop = True\n",
    "                    \n",
    "        return data\n",
    "                "
   ]
  },
  {
   "cell_type": "code",
   "execution_count": null,
   "id": "e1424063",
   "metadata": {},
   "outputs": [],
   "source": []
  }
 ],
 "metadata": {
  "kernelspec": {
   "display_name": "Python 3 (ipykernel)",
   "language": "python",
   "name": "python3"
  },
  "language_info": {
   "codemirror_mode": {
    "name": "ipython",
    "version": 3
   },
   "file_extension": ".py",
   "mimetype": "text/x-python",
   "name": "python",
   "nbconvert_exporter": "python",
   "pygments_lexer": "ipython3",
   "version": "3.8.10"
  }
 },
 "nbformat": 4,
 "nbformat_minor": 5
}
